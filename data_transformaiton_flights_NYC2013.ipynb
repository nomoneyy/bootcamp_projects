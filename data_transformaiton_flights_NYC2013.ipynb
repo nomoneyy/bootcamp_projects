{
  "nbformat": 4,
  "nbformat_minor": 0,
  "metadata": {
    "colab": {
      "provenance": [],
      "toc_visible": true
    },
    "kernelspec": {
      "name": "ir",
      "display_name": "R"
    },
    "language_info": {
      "name": "R"
    }
  },
  "cells": [
    {
      "cell_type": "markdown",
      "source": [
        "# Filght Homework"
      ],
      "metadata": {
        "id": "kDQh0FqgyJeN"
      }
    },
    {
      "cell_type": "markdown",
      "source": [
        "## Install package"
      ],
      "metadata": {
        "id": "W_cr9ZWsyPoc"
      }
    },
    {
      "cell_type": "code",
      "execution_count": null,
      "metadata": {
        "colab": {
          "base_uri": "https://localhost:8080/"
        },
        "id": "7uQrbe41yD1Z",
        "outputId": "7b29b9a2-5604-4ad9-a279-05d1ecff2af2"
      },
      "outputs": [
        {
          "output_type": "stream",
          "name": "stderr",
          "text": [
            "Installing package into ‘/usr/local/lib/R/site-library’\n",
            "(as ‘lib’ is unspecified)\n",
            "\n"
          ]
        }
      ],
      "source": [
        "install.packages(\"nycflights13\")"
      ]
    },
    {
      "cell_type": "code",
      "source": [
        "library(tidyverse)\n",
        "library(nycflights13)\n",
        "library(glue)"
      ],
      "metadata": {
        "colab": {
          "base_uri": "https://localhost:8080/"
        },
        "id": "6vIJtEOVyVnb",
        "outputId": "829f4235-d3c9-4183-fd1b-0d3df1c2ff67"
      },
      "execution_count": null,
      "outputs": [
        {
          "output_type": "stream",
          "name": "stderr",
          "text": [
            "Warning message in system(\"timedatectl\", intern = TRUE):\n",
            "“running command 'timedatectl' had status 1”\n",
            "── \u001b[1mAttaching packages\u001b[22m ─────────────────────────────────────── tidyverse 1.3.1 ──\n",
            "\n",
            "\u001b[32m✔\u001b[39m \u001b[34mggplot2\u001b[39m 3.3.6      \u001b[32m✔\u001b[39m \u001b[34mpurrr  \u001b[39m 0.3.4 \n",
            "\u001b[32m✔\u001b[39m \u001b[34mtibble \u001b[39m 3.1.7      \u001b[32m✔\u001b[39m \u001b[34mdplyr  \u001b[39m 1.0.10\n",
            "\u001b[32m✔\u001b[39m \u001b[34mtidyr  \u001b[39m 1.2.1      \u001b[32m✔\u001b[39m \u001b[34mstringr\u001b[39m 1.4.1 \n",
            "\u001b[32m✔\u001b[39m \u001b[34mreadr  \u001b[39m 2.1.2      \u001b[32m✔\u001b[39m \u001b[34mforcats\u001b[39m 0.5.2 \n",
            "\n",
            "── \u001b[1mConflicts\u001b[22m ────────────────────────────────────────── tidyverse_conflicts() ──\n",
            "\u001b[31m✖\u001b[39m \u001b[34mdplyr\u001b[39m::\u001b[32mfilter()\u001b[39m masks \u001b[34mstats\u001b[39m::filter()\n",
            "\u001b[31m✖\u001b[39m \u001b[34mdplyr\u001b[39m::\u001b[32mlag()\u001b[39m    masks \u001b[34mstats\u001b[39m::lag()\n",
            "\n"
          ]
        }
      ]
    },
    {
      "cell_type": "markdown",
      "source": [
        "## View Data"
      ],
      "metadata": {
        "id": "VTgAEXPrzr-H"
      }
    },
    {
      "cell_type": "code",
      "source": [
        "glimpse(flights)"
      ],
      "metadata": {
        "colab": {
          "base_uri": "https://localhost:8080/"
        },
        "id": "mAQpeeP7znMY",
        "outputId": "f250e2d2-d6d0-4562-fa47-1d76a1b6b18c"
      },
      "execution_count": null,
      "outputs": [
        {
          "output_type": "stream",
          "name": "stdout",
          "text": [
            "Rows: 336,776\n",
            "Columns: 19\n",
            "$ year           \u001b[3m\u001b[90m<int>\u001b[39m\u001b[23m 2013, 2013, 2013, 2013, 2013, 2013, 2013, 2013, 2013, 2…\n",
            "$ month          \u001b[3m\u001b[90m<int>\u001b[39m\u001b[23m 1, 1, 1, 1, 1, 1, 1, 1, 1, 1, 1, 1, 1, 1, 1, 1, 1, 1, 1…\n",
            "$ day            \u001b[3m\u001b[90m<int>\u001b[39m\u001b[23m 1, 1, 1, 1, 1, 1, 1, 1, 1, 1, 1, 1, 1, 1, 1, 1, 1, 1, 1…\n",
            "$ dep_time       \u001b[3m\u001b[90m<int>\u001b[39m\u001b[23m 517, 533, 542, 544, 554, 554, 555, 557, 557, 558, 558, …\n",
            "$ sched_dep_time \u001b[3m\u001b[90m<int>\u001b[39m\u001b[23m 515, 529, 540, 545, 600, 558, 600, 600, 600, 600, 600, …\n",
            "$ dep_delay      \u001b[3m\u001b[90m<dbl>\u001b[39m\u001b[23m 2, 4, 2, -1, -6, -4, -5, -3, -3, -2, -2, -2, -2, -2, -1…\n",
            "$ arr_time       \u001b[3m\u001b[90m<int>\u001b[39m\u001b[23m 830, 850, 923, 1004, 812, 740, 913, 709, 838, 753, 849,…\n",
            "$ sched_arr_time \u001b[3m\u001b[90m<int>\u001b[39m\u001b[23m 819, 830, 850, 1022, 837, 728, 854, 723, 846, 745, 851,…\n",
            "$ arr_delay      \u001b[3m\u001b[90m<dbl>\u001b[39m\u001b[23m 11, 20, 33, -18, -25, 12, 19, -14, -8, 8, -2, -3, 7, -1…\n",
            "$ carrier        \u001b[3m\u001b[90m<chr>\u001b[39m\u001b[23m \"UA\", \"UA\", \"AA\", \"B6\", \"DL\", \"UA\", \"B6\", \"EV\", \"B6\", \"…\n",
            "$ flight         \u001b[3m\u001b[90m<int>\u001b[39m\u001b[23m 1545, 1714, 1141, 725, 461, 1696, 507, 5708, 79, 301, 4…\n",
            "$ tailnum        \u001b[3m\u001b[90m<chr>\u001b[39m\u001b[23m \"N14228\", \"N24211\", \"N619AA\", \"N804JB\", \"N668DN\", \"N394…\n",
            "$ origin         \u001b[3m\u001b[90m<chr>\u001b[39m\u001b[23m \"EWR\", \"LGA\", \"JFK\", \"JFK\", \"LGA\", \"EWR\", \"EWR\", \"LGA\",…\n",
            "$ dest           \u001b[3m\u001b[90m<chr>\u001b[39m\u001b[23m \"IAH\", \"IAH\", \"MIA\", \"BQN\", \"ATL\", \"ORD\", \"FLL\", \"IAD\",…\n",
            "$ air_time       \u001b[3m\u001b[90m<dbl>\u001b[39m\u001b[23m 227, 227, 160, 183, 116, 150, 158, 53, 140, 138, 149, 1…\n",
            "$ distance       \u001b[3m\u001b[90m<dbl>\u001b[39m\u001b[23m 1400, 1416, 1089, 1576, 762, 719, 1065, 229, 944, 733, …\n",
            "$ hour           \u001b[3m\u001b[90m<dbl>\u001b[39m\u001b[23m 5, 5, 5, 5, 6, 5, 6, 6, 6, 6, 6, 6, 6, 6, 6, 5, 6, 6, 6…\n",
            "$ minute         \u001b[3m\u001b[90m<dbl>\u001b[39m\u001b[23m 15, 29, 40, 45, 0, 58, 0, 0, 0, 0, 0, 0, 0, 0, 0, 59, 0…\n",
            "$ time_hour      \u001b[3m\u001b[90m<dttm>\u001b[39m\u001b[23m 2013-01-01 05:00:00, 2013-01-01 05:00:00, 2013-01-01 0…\n"
          ]
        }
      ]
    },
    {
      "cell_type": "code",
      "source": [
        "apply(flights, MARGIN = 2, function(col) sum(is.na(col)))"
      ],
      "metadata": {
        "colab": {
          "base_uri": "https://localhost:8080/",
          "height": 69
        },
        "id": "2SWzAfVF0FZZ",
        "outputId": "44d31b44-2597-45ab-965e-0feb0e26eb07"
      },
      "execution_count": null,
      "outputs": [
        {
          "output_type": "display_data",
          "data": {
            "text/html": [
              "<style>\n",
              ".dl-inline {width: auto; margin:0; padding: 0}\n",
              ".dl-inline>dt, .dl-inline>dd {float: none; width: auto; display: inline-block}\n",
              ".dl-inline>dt::after {content: \":\\0020\"; padding-right: .5ex}\n",
              ".dl-inline>dt:not(:first-of-type) {padding-left: .5ex}\n",
              "</style><dl class=dl-inline><dt>year</dt><dd>0</dd><dt>month</dt><dd>0</dd><dt>day</dt><dd>0</dd><dt>dep_time</dt><dd>8255</dd><dt>sched_dep_time</dt><dd>0</dd><dt>dep_delay</dt><dd>8255</dd><dt>arr_time</dt><dd>8713</dd><dt>sched_arr_time</dt><dd>0</dd><dt>arr_delay</dt><dd>9430</dd><dt>carrier</dt><dd>0</dd><dt>flight</dt><dd>0</dd><dt>tailnum</dt><dd>2512</dd><dt>origin</dt><dd>0</dd><dt>dest</dt><dd>0</dd><dt>air_time</dt><dd>9430</dd><dt>distance</dt><dd>0</dd><dt>hour</dt><dd>0</dd><dt>minute</dt><dd>0</dd><dt>time_hour</dt><dd>0</dd></dl>\n"
            ],
            "text/markdown": "year\n:   0month\n:   0day\n:   0dep_time\n:   8255sched_dep_time\n:   0dep_delay\n:   8255arr_time\n:   8713sched_arr_time\n:   0arr_delay\n:   9430carrier\n:   0flight\n:   0tailnum\n:   2512origin\n:   0dest\n:   0air_time\n:   9430distance\n:   0hour\n:   0minute\n:   0time_hour\n:   0\n\n",
            "text/latex": "\\begin{description*}\n\\item[year] 0\n\\item[month] 0\n\\item[day] 0\n\\item[dep\\textbackslash{}\\_time] 8255\n\\item[sched\\textbackslash{}\\_dep\\textbackslash{}\\_time] 0\n\\item[dep\\textbackslash{}\\_delay] 8255\n\\item[arr\\textbackslash{}\\_time] 8713\n\\item[sched\\textbackslash{}\\_arr\\textbackslash{}\\_time] 0\n\\item[arr\\textbackslash{}\\_delay] 9430\n\\item[carrier] 0\n\\item[flight] 0\n\\item[tailnum] 2512\n\\item[origin] 0\n\\item[dest] 0\n\\item[air\\textbackslash{}\\_time] 9430\n\\item[distance] 0\n\\item[hour] 0\n\\item[minute] 0\n\\item[time\\textbackslash{}\\_hour] 0\n\\end{description*}\n",
            "text/plain": [
              "          year          month            day       dep_time sched_dep_time \n",
              "             0              0              0           8255              0 \n",
              "     dep_delay       arr_time sched_arr_time      arr_delay        carrier \n",
              "          8255           8713              0           9430              0 \n",
              "        flight        tailnum         origin           dest       air_time \n",
              "             0           2512              0              0           9430 \n",
              "      distance           hour         minute      time_hour \n",
              "             0              0              0              0 "
            ]
          },
          "metadata": {}
        }
      ]
    },
    {
      "cell_type": "markdown",
      "source": [
        "The missing values are seen in time-related columns. It's better to drop rows than imputation."
      ],
      "metadata": {
        "id": "nQ8BjynM2BjO"
      }
    },
    {
      "cell_type": "code",
      "source": [
        "df_flight <- tibble(drop_na(flights))\n",
        "apply(df_flight, MARGIN = 2, function(col) sum(is.na(col)))\n"
      ],
      "metadata": {
        "colab": {
          "base_uri": "https://localhost:8080/",
          "height": 69
        },
        "id": "UnuQm-q40yPO",
        "outputId": "8c055b70-b671-4744-b9fa-5b93bdf8851b"
      },
      "execution_count": null,
      "outputs": [
        {
          "output_type": "display_data",
          "data": {
            "text/html": [
              "<style>\n",
              ".dl-inline {width: auto; margin:0; padding: 0}\n",
              ".dl-inline>dt, .dl-inline>dd {float: none; width: auto; display: inline-block}\n",
              ".dl-inline>dt::after {content: \":\\0020\"; padding-right: .5ex}\n",
              ".dl-inline>dt:not(:first-of-type) {padding-left: .5ex}\n",
              "</style><dl class=dl-inline><dt>year</dt><dd>0</dd><dt>month</dt><dd>0</dd><dt>day</dt><dd>0</dd><dt>dep_time</dt><dd>0</dd><dt>sched_dep_time</dt><dd>0</dd><dt>dep_delay</dt><dd>0</dd><dt>arr_time</dt><dd>0</dd><dt>sched_arr_time</dt><dd>0</dd><dt>arr_delay</dt><dd>0</dd><dt>carrier</dt><dd>0</dd><dt>flight</dt><dd>0</dd><dt>tailnum</dt><dd>0</dd><dt>origin</dt><dd>0</dd><dt>dest</dt><dd>0</dd><dt>air_time</dt><dd>0</dd><dt>distance</dt><dd>0</dd><dt>hour</dt><dd>0</dd><dt>minute</dt><dd>0</dd><dt>time_hour</dt><dd>0</dd></dl>\n"
            ],
            "text/markdown": "year\n:   0month\n:   0day\n:   0dep_time\n:   0sched_dep_time\n:   0dep_delay\n:   0arr_time\n:   0sched_arr_time\n:   0arr_delay\n:   0carrier\n:   0flight\n:   0tailnum\n:   0origin\n:   0dest\n:   0air_time\n:   0distance\n:   0hour\n:   0minute\n:   0time_hour\n:   0\n\n",
            "text/latex": "\\begin{description*}\n\\item[year] 0\n\\item[month] 0\n\\item[day] 0\n\\item[dep\\textbackslash{}\\_time] 0\n\\item[sched\\textbackslash{}\\_dep\\textbackslash{}\\_time] 0\n\\item[dep\\textbackslash{}\\_delay] 0\n\\item[arr\\textbackslash{}\\_time] 0\n\\item[sched\\textbackslash{}\\_arr\\textbackslash{}\\_time] 0\n\\item[arr\\textbackslash{}\\_delay] 0\n\\item[carrier] 0\n\\item[flight] 0\n\\item[tailnum] 0\n\\item[origin] 0\n\\item[dest] 0\n\\item[air\\textbackslash{}\\_time] 0\n\\item[distance] 0\n\\item[hour] 0\n\\item[minute] 0\n\\item[time\\textbackslash{}\\_hour] 0\n\\end{description*}\n",
            "text/plain": [
              "          year          month            day       dep_time sched_dep_time \n",
              "             0              0              0              0              0 \n",
              "     dep_delay       arr_time sched_arr_time      arr_delay        carrier \n",
              "             0              0              0              0              0 \n",
              "        flight        tailnum         origin           dest       air_time \n",
              "             0              0              0              0              0 \n",
              "      distance           hour         minute      time_hour \n",
              "             0              0              0              0 "
            ]
          },
          "metadata": {}
        }
      ]
    },
    {
      "cell_type": "code",
      "source": [
        "glimpse(airlines)"
      ],
      "metadata": {
        "colab": {
          "base_uri": "https://localhost:8080/"
        },
        "id": "-dP6eS5Xjq7Q",
        "outputId": "058e990c-ece4-401f-f59f-305eedd05ee9"
      },
      "execution_count": null,
      "outputs": [
        {
          "output_type": "stream",
          "name": "stdout",
          "text": [
            "Rows: 16\n",
            "Columns: 2\n",
            "$ carrier \u001b[3m\u001b[90m<chr>\u001b[39m\u001b[23m \"9E\", \"AA\", \"AS\", \"B6\", \"DL\", \"EV\", \"F9\", \"FL\", \"HA\", \"MQ\", \"O…\n",
            "$ name    \u001b[3m\u001b[90m<chr>\u001b[39m\u001b[23m \"Endeavor Air Inc.\", \"American Airlines Inc.\", \"Alaska Airline…\n"
          ]
        }
      ]
    },
    {
      "cell_type": "markdown",
      "source": [
        "### Q1:Which carrier had the most filghts on May 30, 2013?"
      ],
      "metadata": {
        "id": "YKexD3D33JVj"
      }
    },
    {
      "cell_type": "code",
      "source": [
        "df1 <- df_flight %>%\n",
        "  filter(day == 30, month == 5, year == 2013) %>%\n",
        "  count(carrier) %>%\n",
        "  arrange(desc(n)) %>%\n",
        "  left_join(airlines, by=\"carrier\") %>%\n",
        "  head(5)\n",
        "print(df1)"
      ],
      "metadata": {
        "colab": {
          "base_uri": "https://localhost:8080/"
        },
        "id": "TFT046HM26Bf",
        "outputId": "60127f75-1b03-4a32-b8ca-47378bd5f3b6"
      },
      "execution_count": null,
      "outputs": [
        {
          "output_type": "stream",
          "name": "stdout",
          "text": [
            "\u001b[90m# A tibble: 5 × 3\u001b[39m\n",
            "  carrier     n name                    \n",
            "  \u001b[3m\u001b[90m<chr>\u001b[39m\u001b[23m   \u001b[3m\u001b[90m<int>\u001b[39m\u001b[23m \u001b[3m\u001b[90m<chr>\u001b[39m\u001b[23m                   \n",
            "\u001b[90m1\u001b[39m UA        173 United Air Lines Inc.   \n",
            "\u001b[90m2\u001b[39m EV        170 ExpressJet Airlines Inc.\n",
            "\u001b[90m3\u001b[39m B6        154 JetBlue Airways         \n",
            "\u001b[90m4\u001b[39m DL        136 Delta Air Lines Inc.    \n",
            "\u001b[90m5\u001b[39m AA         89 American Airlines Inc.  \n"
          ]
        }
      ]
    },
    {
      "cell_type": "markdown",
      "source": [
        "### Q2: Which carrier had the most delay of departure?"
      ],
      "metadata": {
        "id": "a7XFdxnB4Dg3"
      }
    },
    {
      "cell_type": "code",
      "source": [
        "df2 <- df_flight %>%\n",
        "  select(carrier, dep_delay) %>%\n",
        "  filter(dep_delay > 0) %>%\n",
        "  group_by(carrier) %>%\n",
        "  summarise(\n",
        "    dept_delay = sum(dep_delay > 0)\n",
        "  ) %>%\n",
        "  arrange(desc(dept_delay)) %>% \n",
        "  left_join(airlines, by = \"carrier\") %>%\n",
        "  head(5)\n",
        "print(df2)"
      ],
      "metadata": {
        "colab": {
          "base_uri": "https://localhost:8080/"
        },
        "id": "taZC9anDl4e2",
        "outputId": "f3dbac38-dca0-4dae-b72b-ffec87372e17"
      },
      "execution_count": null,
      "outputs": [
        {
          "output_type": "stream",
          "name": "stdout",
          "text": [
            "\u001b[90m# A tibble: 5 × 3\u001b[39m\n",
            "  carrier dept_delay name                    \n",
            "  \u001b[3m\u001b[90m<chr>\u001b[39m\u001b[23m        \u001b[3m\u001b[90m<int>\u001b[39m\u001b[23m \u001b[3m\u001b[90m<chr>\u001b[39m\u001b[23m                   \n",
            "\u001b[90m1\u001b[39m UA           \u001b[4m2\u001b[24m\u001b[4m7\u001b[24m125 United Air Lines Inc.   \n",
            "\u001b[90m2\u001b[39m EV           \u001b[4m2\u001b[24m\u001b[4m2\u001b[24m976 ExpressJet Airlines Inc.\n",
            "\u001b[90m3\u001b[39m B6           \u001b[4m2\u001b[24m\u001b[4m1\u001b[24m372 JetBlue Airways         \n",
            "\u001b[90m4\u001b[39m DL           \u001b[4m1\u001b[24m\u001b[4m5\u001b[24m186 Delta Air Lines Inc.    \n",
            "\u001b[90m5\u001b[39m AA           \u001b[4m1\u001b[24m\u001b[4m0\u001b[24m105 American Airlines Inc.  \n"
          ]
        }
      ]
    },
    {
      "cell_type": "markdown",
      "source": [
        "### Q3: Which airport (origin) has the most flights to the \"IAH\" destination?"
      ],
      "metadata": {
        "id": "TkGmyn_O401B"
      }
    },
    {
      "cell_type": "code",
      "source": [
        "glimpse(airports)"
      ],
      "metadata": {
        "colab": {
          "base_uri": "https://localhost:8080/"
        },
        "id": "spaaAb7gqC36",
        "outputId": "f41e9473-3975-417d-920d-95ebcf3386fa"
      },
      "execution_count": null,
      "outputs": [
        {
          "output_type": "stream",
          "name": "stdout",
          "text": [
            "Rows: 1,458\n",
            "Columns: 8\n",
            "$ faa   \u001b[3m\u001b[90m<chr>\u001b[39m\u001b[23m \"04G\", \"06A\", \"06C\", \"06N\", \"09J\", \"0A9\", \"0G6\", \"0G7\", \"0P2\", \"…\n",
            "$ name  \u001b[3m\u001b[90m<chr>\u001b[39m\u001b[23m \"Lansdowne Airport\", \"Moton Field Municipal Airport\", \"Schaumbur…\n",
            "$ lat   \u001b[3m\u001b[90m<dbl>\u001b[39m\u001b[23m 41.13047, 32.46057, 41.98934, 41.43191, 31.07447, 36.37122, 41.4…\n",
            "$ lon   \u001b[3m\u001b[90m<dbl>\u001b[39m\u001b[23m -80.61958, -85.68003, -88.10124, -74.39156, -81.42778, -82.17342…\n",
            "$ alt   \u001b[3m\u001b[90m<dbl>\u001b[39m\u001b[23m 1044, 264, 801, 523, 11, 1593, 730, 492, 1000, 108, 409, 875, 10…\n",
            "$ tz    \u001b[3m\u001b[90m<dbl>\u001b[39m\u001b[23m -5, -6, -6, -5, -5, -5, -5, -5, -5, -8, -5, -6, -5, -5, -5, -5, …\n",
            "$ dst   \u001b[3m\u001b[90m<chr>\u001b[39m\u001b[23m \"A\", \"A\", \"A\", \"A\", \"A\", \"A\", \"A\", \"A\", \"U\", \"A\", \"A\", \"U\", \"A\",…\n",
            "$ tzone \u001b[3m\u001b[90m<chr>\u001b[39m\u001b[23m \"America/New_York\", \"America/Chicago\", \"America/Chicago\", \"Ameri…\n"
          ]
        }
      ]
    },
    {
      "cell_type": "code",
      "source": [
        "df3 <- df_flight %>%\n",
        "  select(origin, dest) %>%\n",
        "  filter(dest == \"IAH\") %>%\n",
        "  count(origin) %>%\n",
        "  arrange(desc(n)) %>%\n",
        "  left_join(airports,by=c(\"origin\" = \"faa\")) %>%\n",
        "  select(origin, n, name) %>%\n",
        "  head(5)\n",
        "print(df3)"
      ],
      "metadata": {
        "colab": {
          "base_uri": "https://localhost:8080/"
        },
        "id": "cjRaNXTDolO1",
        "outputId": "c2c6fa7f-2ca2-4a98-c004-e52df4930533"
      },
      "execution_count": null,
      "outputs": [
        {
          "output_type": "stream",
          "name": "stdout",
          "text": [
            "\u001b[90m# A tibble: 3 × 3\u001b[39m\n",
            "  origin     n name               \n",
            "  \u001b[3m\u001b[90m<chr>\u001b[39m\u001b[23m  \u001b[3m\u001b[90m<int>\u001b[39m\u001b[23m \u001b[3m\u001b[90m<chr>\u001b[39m\u001b[23m              \n",
            "\u001b[90m1\u001b[39m EWR     \u001b[4m3\u001b[24m923 Newark Liberty Intl\n",
            "\u001b[90m2\u001b[39m LGA     \u001b[4m2\u001b[24m891 La Guardia         \n",
            "\u001b[90m3\u001b[39m JFK      271 John F Kennedy Intl\n"
          ]
        }
      ]
    },
    {
      "cell_type": "markdown",
      "source": [
        "### Q4: How far the average distances of each carrier? show top 5."
      ],
      "metadata": {
        "id": "PiNDILco7HFS"
      }
    },
    {
      "cell_type": "code",
      "source": [
        "df4 <- df_flight %>%\n",
        "  select(carrier, distance) %>%\n",
        "  group_by(carrier) %>%\n",
        "  summarize(avg_dist = mean(distance)) %>%\n",
        "  arrange(desc(avg_dist)) %>%\n",
        "  left_join(airlines, by=\"carrier\") %>%\n",
        "  head(5)\n",
        "print(df4)"
      ],
      "metadata": {
        "colab": {
          "base_uri": "https://localhost:8080/"
        },
        "id": "jaUoKJvLtw6s",
        "outputId": "8bd007eb-1ef5-4e6e-d9c5-dccb5ed4bd9c"
      },
      "execution_count": null,
      "outputs": [
        {
          "output_type": "stream",
          "name": "stdout",
          "text": [
            "\u001b[90m# A tibble: 5 × 3\u001b[39m\n",
            "  carrier avg_dist name                  \n",
            "  \u001b[3m\u001b[90m<chr>\u001b[39m\u001b[23m      \u001b[3m\u001b[90m<dbl>\u001b[39m\u001b[23m \u001b[3m\u001b[90m<chr>\u001b[39m\u001b[23m                 \n",
            "\u001b[90m1\u001b[39m HA         \u001b[4m4\u001b[24m983  Hawaiian Airlines Inc.\n",
            "\u001b[90m2\u001b[39m VX         \u001b[4m2\u001b[24m499. Virgin America        \n",
            "\u001b[90m3\u001b[39m AS         \u001b[4m2\u001b[24m402  Alaska Airlines Inc.  \n",
            "\u001b[90m4\u001b[39m F9         \u001b[4m1\u001b[24m620  Frontier Airlines Inc.\n",
            "\u001b[90m5\u001b[39m UA         \u001b[4m1\u001b[24m531. United Air Lines Inc. \n"
          ]
        }
      ]
    },
    {
      "cell_type": "markdown",
      "source": [
        "### Q5: Which carrier had the longest distance on Febuary?"
      ],
      "metadata": {
        "id": "ncH8HeUU7rsz"
      }
    },
    {
      "cell_type": "code",
      "source": [
        "df5 <- df_flight %>%\n",
        "  select(carrier, distance, month) %>%\n",
        "  filter(month == 2) %>%\n",
        "  group_by(carrier) %>%\n",
        "  summarize(max_dist = max(distance)) %>%\n",
        "  arrange(desc(max_dist)) %>%\n",
        "  left_join(airlines, by=\"carrier\") %>%\n",
        "  head(5)\n",
        "print(df5)"
      ],
      "metadata": {
        "colab": {
          "base_uri": "https://localhost:8080/"
        },
        "id": "ZHyLw2dMu-cy",
        "outputId": "39c95a68-27d1-4947-c86b-1621d051c545"
      },
      "execution_count": null,
      "outputs": [
        {
          "output_type": "stream",
          "name": "stdout",
          "text": [
            "\u001b[90m# A tibble: 5 × 3\u001b[39m\n",
            "  carrier max_dist name                  \n",
            "  \u001b[3m\u001b[90m<chr>\u001b[39m\u001b[23m      \u001b[3m\u001b[90m<dbl>\u001b[39m\u001b[23m \u001b[3m\u001b[90m<chr>\u001b[39m\u001b[23m                 \n",
            "\u001b[90m1\u001b[39m HA          \u001b[4m4\u001b[24m983 Hawaiian Airlines Inc.\n",
            "\u001b[90m2\u001b[39m UA          \u001b[4m4\u001b[24m963 United Air Lines Inc. \n",
            "\u001b[90m3\u001b[39m AA          \u001b[4m2\u001b[24m586 American Airlines Inc.\n",
            "\u001b[90m4\u001b[39m B6          \u001b[4m2\u001b[24m586 JetBlue Airways       \n",
            "\u001b[90m5\u001b[39m DL          \u001b[4m2\u001b[24m586 Delta Air Lines Inc.  \n"
          ]
        }
      ]
    }
  ]
}